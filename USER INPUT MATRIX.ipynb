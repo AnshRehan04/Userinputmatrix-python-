{
 "cells": [
  {
   "cell_type": "code",
   "execution_count": null,
   "id": "a4343c9e",
   "metadata": {},
   "outputs": [],
   "source": [
    "a=int(input(\"enter the number of rows :\"))\n",
    "b=int(input(\"Enter the number of columns :\"))\n",
    "matrix=[]\n",
    "for i in range(a):\n",
    "    c=[]\n",
    "    for j in range(b):\n",
    "        j=int(input(\"enter the elements in matrix \"+str(i) +\" \"+ str(j) +\" \"))\n",
    "        c.append(j)\n",
    "    print()\n",
    "    matrix.append(c)\n",
    "for i in range(a):\n",
    "    for j in range(b):\n",
    "        print(matrix[i][j],end=' ')\n",
    "    print()"
   ]
  }
 ],
 "metadata": {
  "kernelspec": {
   "display_name": "Python 3 (ipykernel)",
   "language": "python",
   "name": "python3"
  },
  "language_info": {
   "codemirror_mode": {
    "name": "ipython",
    "version": 3
   },
   "file_extension": ".py",
   "mimetype": "text/x-python",
   "name": "python",
   "nbconvert_exporter": "python",
   "pygments_lexer": "ipython3",
   "version": "3.9.12"
  }
 },
 "nbformat": 4,
 "nbformat_minor": 5
}
